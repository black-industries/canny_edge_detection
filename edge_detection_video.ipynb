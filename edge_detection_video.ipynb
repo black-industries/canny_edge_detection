{
 "cells": [
  {
   "cell_type": "code",
   "execution_count": 35,
   "metadata": {},
   "outputs": [],
   "source": [
    "import matplotlib.pyplot as plt\n",
    "from edge_detection import perform_detection\n",
    "import matplotlib.image as mpimg\n",
    "import os\n",
    "import cv2\n",
    "from os.path import isfile, join\n",
    "import time\n",
    "import read_write_video  as rw_video"
   ]
  },
  {
   "cell_type": "code",
   "execution_count": 32,
   "metadata": {},
   "outputs": [],
   "source": [
    "images_path = 'videos_imgs/'\n",
    "edge_path = 'edge_detected'\n",
    "\n",
    "files = [f for f in os.listdir(images_path) if isfile(join(images_path, f))]"
   ]
  },
  {
   "cell_type": "code",
   "execution_count": 34,
   "metadata": {},
   "outputs": [
    {
     "name": "stdout",
     "output_type": "stream",
     "text": [
      "perform edge_detection on image 0 at 158.93\n",
      "perform edge_detection on image 1 at 155.51\n",
      "perform edge_detection on image 2 at 153.61\n",
      "perform edge_detection on image 3 at 173.35\n",
      "perform edge_detection on image 4 at 173.02\n",
      "perform edge_detection on image 5 at 171.69\n",
      "perform edge_detection on image 6 at 168.93\n",
      "perform edge_detection on image 7 at 147.40\n",
      "perform edge_detection on image 8 at 159.64\n",
      "perform edge_detection on image 9 at 166.59\n",
      "time elapsed: 1631.7941160202026 \n"
     ]
    }
   ],
   "source": [
    "start = time.time()\n",
    "for i in range(len(files)):\n",
    "    filename = images_path+files[i]\n",
    "    image = mpimg.imread(filename)\n",
    "    \n",
    "    start_one = time.time()\n",
    "    #perform edgedetection\n",
    "    result = perform_detection(image)\n",
    "    \n",
    "    end_one = time.time()\n",
    "    time_diff= (end_one - start_one)\n",
    "    print('perform edge_detection on image {0} at {1:.2f}'.format(i, time_diff) )\n",
    "    \n",
    "    #save image\n",
    "    cv2.imwrite(edge_path+'/image'+str(i)+'.jpg', result)\n",
    "\n",
    "    \n",
    "end = time.time()\n",
    "total_diff = end - start\n",
    "print('time elapsed: {0} '.format(total_diff))"
   ]
  },
  {
   "cell_type": "code",
   "execution_count": 27,
   "metadata": {},
   "outputs": [
    {
     "name": "stdout",
     "output_type": "stream",
     "text": [
      "perform edge_detection on image 1 at -0.20\n"
     ]
    }
   ],
   "source": [
    "time_diff= (0.1 - 0.3)\n",
    "print('perform edge_detection on image {0} at {1:.2f}'.format(1, time_diff) )"
   ]
  },
  {
   "cell_type": "code",
   "execution_count": 36,
   "metadata": {},
   "outputs": [],
   "source": [
    "edge_path\n",
    "rw_video.write_video(edge_path)"
   ]
  }
 ],
 "metadata": {
  "kernelspec": {
   "display_name": "Python 3",
   "language": "python",
   "name": "python3"
  },
  "language_info": {
   "codemirror_mode": {
    "name": "ipython",
    "version": 3
   },
   "file_extension": ".py",
   "mimetype": "text/x-python",
   "name": "python",
   "nbconvert_exporter": "python",
   "pygments_lexer": "ipython3",
   "version": "3.8.5"
  }
 },
 "nbformat": 4,
 "nbformat_minor": 4
}
